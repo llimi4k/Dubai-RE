{
 "cells": [
  {
   "cell_type": "markdown",
   "id": "b8c11ebd",
   "metadata": {},
   "source": [
    "# Empezamos"
   ]
  },
  {
   "cell_type": "code",
   "execution_count": 1,
   "id": "535de9a7",
   "metadata": {},
   "outputs": [],
   "source": [
    "import pandas as pd"
   ]
  },
  {
   "cell_type": "markdown",
   "id": "04b702c4",
   "metadata": {},
   "source": [
    "!pip install requests"
   ]
  },
  {
   "cell_type": "code",
   "execution_count": 2,
   "id": "0fe25cd8",
   "metadata": {},
   "outputs": [],
   "source": [
    "import requests as req"
   ]
  },
  {
   "cell_type": "code",
   "execution_count": 3,
   "id": "428cfe3c",
   "metadata": {},
   "outputs": [],
   "source": [
    "from requests.auth import HTTPBasicAuth"
   ]
  },
  {
   "cell_type": "code",
   "execution_count": 4,
   "id": "eb977714",
   "metadata": {},
   "outputs": [],
   "source": [
    "from bs4 import BeautifulSoup as bs"
   ]
  },
  {
   "cell_type": "code",
   "execution_count": 5,
   "id": "6c1b6c6e",
   "metadata": {},
   "outputs": [],
   "source": [
    "import matplotlib.pyplot as plt"
   ]
  },
  {
   "cell_type": "markdown",
   "id": "e037576b",
   "metadata": {},
   "source": [
    "!pip install selenium"
   ]
  },
  {
   "cell_type": "markdown",
   "id": "02ed52cf",
   "metadata": {},
   "source": [
    "url = \"'https://us-real-estate-listings.p.rapidapi.com/v2/property\"\n",
    "username = \"jota zeta\"\n",
    "password = \"\"\n",
    "\n",
    "response = req.get(url, auth=HTTPBasicAuth(username, password))\n",
    "\n",
    "if response.status_code == 200:\n",
    "    data = response.json()"
   ]
  },
  {
   "cell_type": "markdown",
   "id": "9c91bcbf",
   "metadata": {},
   "source": [
    "url = \"https://dubailand.gov.ae/en/open-data/real-estate-data/#/\"\n",
    "\n",
    "html = req.get(url).text\n",
    "\n",
    "sopa = bs(html, 'html.parser')"
   ]
  },
  {
   "cell_type": "markdown",
   "id": "a2c0b9b5",
   "metadata": {},
   "source": [
    "req.get(\"https://dubailand.gov.ae/en/open-data/real-estate-data/#/\")"
   ]
  },
  {
   "cell_type": "markdown",
   "id": "52ee23f1",
   "metadata": {},
   "source": [
    "thead,tbody,"
   ]
  },
  {
   "cell_type": "markdown",
   "id": "5c7ea14b",
   "metadata": {},
   "source": [
    "cabeza = sopa.find(\"table\").find(\"tr\")\n",
    "filas = sopa.find(\"table\").find_all(\"tr\")"
   ]
  },
  {
   "cell_type": "markdown",
   "id": "29e10381",
   "metadata": {},
   "source": [
    "pd.read_html(url)"
   ]
  },
  {
   "cell_type": "markdown",
   "id": "3dd771c3",
   "metadata": {},
   "source": [
    "cabeza = [e.text.strip() for e in cabeza.find_all(\"th\")]"
   ]
  },
  {
   "cell_type": "markdown",
   "id": "dfc2d5b4",
   "metadata": {},
   "source": [
    "[e.text.strip() for e in filas[3].find_all(\"td\")]"
   ]
  },
  {
   "cell_type": "markdown",
   "id": "34058b36",
   "metadata": {},
   "source": [
    "len(filas)"
   ]
  },
  {
   "cell_type": "markdown",
   "id": "7cf23d63",
   "metadata": {},
   "source": [
    "pd.DataFrame(filas,columns=cabeza)"
   ]
  },
  {
   "cell_type": "code",
   "execution_count": null,
   "id": "c43aea85",
   "metadata": {},
   "outputs": [],
   "source": [
    "\"\"\"\n",
    "\n",
    "import requests\n",
    "from requests.auth import HTTPBasicAuth\n",
    "\n",
    "url = \"https://api.example.com/data\"\n",
    "username = \"tu_usuario\"\n",
    "password = \"tu_contraseña\"\n",
    "\n",
    "response = requests.get(url, auth=HTTPBasicAuth(username, password))\n",
    "\n",
    "if response.status_code == 200:\n",
    "    data = response.json()\n",
    "\"\"\""
   ]
  },
  {
   "cell_type": "code",
   "execution_count": null,
   "id": "8e73e160",
   "metadata": {},
   "outputs": [],
   "source": [
    "\"\"\"\n",
    "Metodos ultiles:\n",
    "df.dtypes\n",
    "df.info()\n",
    "df.shape\n",
    "df.columns\n",
    "df.property_type_id.unique()\n",
    "df[\"instance_date\"].nunique()\n",
    "df = df.dropna(how = \"all\")\n",
    "\n",
    "\"\"\""
   ]
  },
  {
   "cell_type": "markdown",
   "id": "e5ca484a",
   "metadata": {},
   "source": [
    "## Bases de datos\n"
   ]
  },
  {
   "cell_type": "code",
   "execution_count": 6,
   "id": "844a2015",
   "metadata": {},
   "outputs": [],
   "source": [
    "df = pd.read_csv(\"Transactions.csv\")\n",
    "\n",
    "# pagina = https://www.kaggle.com/datasets?search=real+state+dubai&sort=updated"
   ]
  },
  {
   "cell_type": "markdown",
   "id": "a7e3a868",
   "metadata": {},
   "source": [
    "nf = pd.read_csv('transactions-2023-07-02.csv')\n",
    "dfc = pd.read_csv(\"dataframeAreasWithALLCoord.csv\")"
   ]
  },
  {
   "cell_type": "code",
   "execution_count": null,
   "id": "d11afd32",
   "metadata": {},
   "outputs": [],
   "source": [
    "df.columns\n"
   ]
  },
  {
   "cell_type": "markdown",
   "id": "c3222bac",
   "metadata": {},
   "source": [
    "## APIS"
   ]
  },
  {
   "cell_type": "code",
   "execution_count": null,
   "id": "00b152f9",
   "metadata": {},
   "outputs": [],
   "source": [
    "        \"\"\"\n",
    "dubai = https://rapidapi.com/getpropertyae/api/demo-project46543\n",
    "\n",
    "us = https://rapidapi.com/apimaker/api/us-real-estate-listings/\n",
    "\n",
    "us = https://rapidapi.com/tvhaudev/api/zillow-base1/\n",
    "\n",
    "pagina para buscar = https://rapidapi.com/search/real%20state%20dubai\n",
    "\n",
    "\n",
    "        \"\"\" "
   ]
  },
  {
   "cell_type": "markdown",
   "id": "2e97a19d",
   "metadata": {},
   "source": [
    "## Limpieza "
   ]
  },
  {
   "cell_type": "code",
   "execution_count": 7,
   "id": "82b0c0f5",
   "metadata": {},
   "outputs": [],
   "source": [
    "#Elimino las columnas inutiles(estan en arabe)\n",
    "\n",
    "df = df.drop([\"trans_group_ar\",\"procedure_name_ar\",\"property_type_ar\",\"property_usage_ar\",\"reg_type_ar\",\"building_name_ar\",\"project_name_ar\",\"master_project_ar\",\"nearest_landmark_ar\",\"nearest_metro_ar\",\"nearest_mall_ar\",\"rooms_ar\",\"property_sub_type_ar\",\"area_name_ar\",\"transaction_id\",\"no_of_parties_role_1\",\"no_of_parties_role_2\",\"no_of_parties_role_3\", \"procedure_id\",\"trans_group_id\",\"property_type_id\",\"property_sub_type_id\",\"area_id\"], axis = 1)"
   ]
  },
  {
   "cell_type": "code",
   "execution_count": 8,
   "id": "11da540e",
   "metadata": {},
   "outputs": [],
   "source": [
    "df = df.dropna(how = \"all\")"
   ]
  },
  {
   "cell_type": "code",
   "execution_count": 9,
   "id": "8d7b3680",
   "metadata": {},
   "outputs": [],
   "source": [
    "df.columns = [e.lower().replace(' ', '_') for e in df.columns]"
   ]
  },
  {
   "cell_type": "markdown",
   "id": "ba754339",
   "metadata": {},
   "source": [
    "nf.columns = [e.lower().replace(' ', '_') for e in nf.columns]"
   ]
  },
  {
   "cell_type": "markdown",
   "id": "293f54de",
   "metadata": {},
   "source": [
    "dfc.columns = [e.lower().replace(\" \",\"_\") for e in dfc.columns]"
   ]
  },
  {
   "cell_type": "code",
   "execution_count": 10,
   "id": "453bcc08",
   "metadata": {},
   "outputs": [],
   "source": [
    "df = df.applymap (lambda x: x.lower() if pd.notnull(x) and type(x)==str else x)  #todo a minus"
   ]
  },
  {
   "cell_type": "markdown",
   "id": "d7ac2f02",
   "metadata": {},
   "source": [
    "dfc = dfc.applymap (lambda x: x.lower() if pd.notnull(x) and type(x)==str else x)"
   ]
  },
  {
   "cell_type": "code",
   "execution_count": 11,
   "id": "419dac41",
   "metadata": {},
   "outputs": [],
   "source": [
    "df = df.drop_duplicates()"
   ]
  },
  {
   "cell_type": "code",
   "execution_count": 12,
   "id": "f72364ec",
   "metadata": {},
   "outputs": [],
   "source": [
    "df = df.rename(columns={'trans_group_en': 'trans_group'})\n",
    "df = df.rename(columns={'procedure_name_en': 'procedure_name'})\n",
    "df = df.rename(columns={'property_type_en': 'property_type'})\n",
    "df = df.rename(columns={'property_sub_type_en': 'property_sub_type'})\n",
    "df = df.rename(columns={'property_usage_en': 'property_usage'})\n",
    "df = df.rename(columns={'reg_type_en': 'reg_type'})\n",
    "df = df.rename(columns={'area_name_en': 'area_name'})\n",
    "df = df.rename(columns={'building_name_en': 'building_name'})\n",
    "df = df.rename(columns={'project_name_en': 'project_name'})\n",
    "df = df.rename(columns={'master_project_en': 'master_project'})\n",
    "df = df.rename(columns={'nearest_landmark_en': 'nearest_landmark'})\n",
    "df = df.rename(columns={'nearest_metro_en': 'nearest_metro'})\n",
    "df = df.rename(columns={'nearest_mall_en': 'nearest_mall'})\n",
    "df = df.rename(columns={'rooms_en': 'rooms'})\n",
    "df = df.rename(columns={'trans_group_en': 'trans_group'})\n",
    "df = df.rename(columns={'trans_group_en': 'trans_group'})\n",
    "df = df.rename(columns={'instance_date': 'date'})"
   ]
  },
  {
   "cell_type": "code",
   "execution_count": 13,
   "id": "343be1de",
   "metadata": {},
   "outputs": [],
   "source": [
    "# Modifico la columna date para que sea str\n",
    "\n",
    "df['date'] = df['date'].astype(str)"
   ]
  },
  {
   "cell_type": "code",
   "execution_count": 14,
   "id": "3742263d",
   "metadata": {},
   "outputs": [],
   "source": [
    "# Modifico la columna date para darle la vuelta y expresarla en formato año-mes-dia\n",
    "\n",
    "df['date'] = df['date'].apply(lambda x: '-'.join(reversed(x.split('-'))))"
   ]
  },
  {
   "cell_type": "code",
   "execution_count": 15,
   "id": "57a9eab2",
   "metadata": {},
   "outputs": [],
   "source": [
    "# Fijo el año desde 2015 para ajustar la muestra a un mercado mas actualizado\n",
    "\n",
    "fecha_limite = '2015-01-01'\n",
    "df = df[df['date'] >= fecha_limite]\n"
   ]
  },
  {
   "cell_type": "code",
   "execution_count": 16,
   "id": "0191d685",
   "metadata": {},
   "outputs": [],
   "source": [
    "# Configuro pandas para que me de el formato en digitos enteros en vez de elevado\n",
    "\n",
    "pd.set_option('display.float_format', '{:.9f}'.format)"
   ]
  },
  {
   "cell_type": "code",
   "execution_count": 17,
   "id": "88d7f41d",
   "metadata": {},
   "outputs": [],
   "source": [
    "df = df.dropna(thresh=len(df.columns) - 4) # Modificado el Df para que elimine las filas con mas de 4 valores nulos"
   ]
  },
  {
   "cell_type": "code",
   "execution_count": null,
   "id": "c4b8bec5",
   "metadata": {},
   "outputs": [],
   "source": [
    "df.columns"
   ]
  },
  {
   "cell_type": "markdown",
   "id": "52aab97e",
   "metadata": {},
   "source": [
    "## Analizando"
   ]
  },
  {
   "cell_type": "code",
   "execution_count": null,
   "id": "5f49d57f",
   "metadata": {},
   "outputs": [],
   "source": [
    "df[\"property_sub_type\"].unique()"
   ]
  },
  {
   "cell_type": "code",
   "execution_count": null,
   "id": "172a8780",
   "metadata": {},
   "outputs": [],
   "source": [
    "df[\"area_name\"].unique()"
   ]
  },
  {
   "cell_type": "code",
   "execution_count": 56,
   "id": "520e412e",
   "metadata": {},
   "outputs": [
    {
     "data": {
      "text/plain": [
       "Index(['trans_group', 'procedure_name', 'date', 'property_type',\n",
       "       'property_sub_type', 'property_usage', 'reg_type_id', 'reg_type',\n",
       "       'area_name', 'building_name', 'project_number', 'project_name',\n",
       "       'master_project', 'nearest_landmark', 'nearest_metro', 'nearest_mall',\n",
       "       'rooms', 'has_parking', 'procedure_area', 'actual_worth',\n",
       "       'meter_sale_price', 'rent_value', 'meter_rent_price'],\n",
       "      dtype='object')"
      ]
     },
     "execution_count": 56,
     "metadata": {},
     "output_type": "execute_result"
    }
   ],
   "source": [
    "df.columns"
   ]
  },
  {
   "cell_type": "code",
   "execution_count": 58,
   "id": "12142f7f",
   "metadata": {},
   "outputs": [
    {
     "data": {
      "text/html": [
       "<div>\n",
       "<style scoped>\n",
       "    .dataframe tbody tr th:only-of-type {\n",
       "        vertical-align: middle;\n",
       "    }\n",
       "\n",
       "    .dataframe tbody tr th {\n",
       "        vertical-align: top;\n",
       "    }\n",
       "\n",
       "    .dataframe thead th {\n",
       "        text-align: right;\n",
       "    }\n",
       "</style>\n",
       "<table border=\"1\" class=\"dataframe\">\n",
       "  <thead>\n",
       "    <tr style=\"text-align: right;\">\n",
       "      <th></th>\n",
       "      <th>trans_group</th>\n",
       "      <th>procedure_name</th>\n",
       "      <th>date</th>\n",
       "      <th>property_type</th>\n",
       "      <th>property_sub_type</th>\n",
       "      <th>property_usage</th>\n",
       "      <th>reg_type_id</th>\n",
       "      <th>reg_type</th>\n",
       "      <th>area_name</th>\n",
       "      <th>building_name</th>\n",
       "      <th>...</th>\n",
       "      <th>nearest_landmark</th>\n",
       "      <th>nearest_metro</th>\n",
       "      <th>nearest_mall</th>\n",
       "      <th>rooms</th>\n",
       "      <th>has_parking</th>\n",
       "      <th>procedure_area</th>\n",
       "      <th>actual_worth</th>\n",
       "      <th>meter_sale_price</th>\n",
       "      <th>rent_value</th>\n",
       "      <th>meter_rent_price</th>\n",
       "    </tr>\n",
       "  </thead>\n",
       "  <tbody>\n",
       "    <tr>\n",
       "      <th>560</th>\n",
       "      <td>mortgages</td>\n",
       "      <td>lease to own registration</td>\n",
       "      <td>2019-02-06</td>\n",
       "      <td>villa</td>\n",
       "      <td>NaN</td>\n",
       "      <td>residential</td>\n",
       "      <td>1</td>\n",
       "      <td>existing properties</td>\n",
       "      <td>al warsan first</td>\n",
       "      <td>NaN</td>\n",
       "      <td>...</td>\n",
       "      <td>NaN</td>\n",
       "      <td>rashidiya metro station</td>\n",
       "      <td>city centre mirdif</td>\n",
       "      <td>NaN</td>\n",
       "      <td>0</td>\n",
       "      <td>156.190000000</td>\n",
       "      <td>1125000.000000000</td>\n",
       "      <td>7202.770000000</td>\n",
       "      <td>1125000.000000000</td>\n",
       "      <td>7203.000000000</td>\n",
       "    </tr>\n",
       "  </tbody>\n",
       "</table>\n",
       "<p>1 rows × 23 columns</p>\n",
       "</div>"
      ],
      "text/plain": [
       "    trans_group             procedure_name        date property_type  \\\n",
       "560   mortgages  lease to own registration  2019-02-06         villa   \n",
       "\n",
       "    property_sub_type property_usage  reg_type_id             reg_type  \\\n",
       "560               NaN    residential            1  existing properties   \n",
       "\n",
       "           area_name building_name  ...  nearest_landmark  \\\n",
       "560  al warsan first           NaN  ...               NaN   \n",
       "\n",
       "               nearest_metro        nearest_mall rooms has_parking  \\\n",
       "560  rashidiya metro station  city centre mirdif   NaN           0   \n",
       "\n",
       "    procedure_area      actual_worth  meter_sale_price        rent_value  \\\n",
       "560  156.190000000 1125000.000000000    7202.770000000 1125000.000000000   \n",
       "\n",
       "     meter_rent_price  \n",
       "560    7203.000000000  \n",
       "\n",
       "[1 rows x 23 columns]"
      ]
     },
     "execution_count": 58,
     "metadata": {},
     "output_type": "execute_result"
    }
   ],
   "source": [
    "df.head(1)"
   ]
  },
  {
   "cell_type": "code",
   "execution_count": 18,
   "id": "9a1e8fa2",
   "metadata": {},
   "outputs": [
    {
     "data": {
      "text/plain": [
       "['Cantidad de areas únicas: 64',\n",
       " 'Area con mas actividad: business bay',\n",
       " 'Numero de inmuebles con garaje: 325933',\n",
       " 'Tipo de transaccion mas comun: sales',\n",
       " 'Tipo de terreno mas vendido: unit',\n",
       " 'Inmueble mas vendido: flat',\n",
       " 'Precio medio del inmueble: 1521625.71',\n",
       " 'Inmueble mas caro: 99868168.0',\n",
       " 'Inmueble mas barato: 1.0',\n",
       " 'Precio medio del metro de suelo: 13978.5 ',\n",
       " 'Suelo mas caro: 2039745.91',\n",
       " 'Suelo mas barato: 0.01',\n",
       " 'Precio medio de alquiler: 1232410.55']"
      ]
     },
     "execution_count": 18,
     "metadata": {},
     "output_type": "execute_result"
    }
   ],
   "source": [
    "datos = []\n",
    "\n",
    "# Numero de areas unicas\n",
    "area = df[\"area_name\"].nunique()\n",
    "datos.append(f\"Cantidad de areas únicas: {area}\")\n",
    "\n",
    "# Area con mas actividad\n",
    "area_fam = df[\"area_name\"].value_counts().idxmax()\n",
    "datos.append(f\"Area con mas actividad: {area_fam}\")\n",
    "             \n",
    "# Numero de inmuebles con garaje\n",
    "garaje = df[\"has_parking\"].value_counts().get(1, 0)\n",
    "datos.append(f\"Numero de inmuebles con garaje: {garaje}\")\n",
    "             \n",
    "# Tipo de transaccion mas usado\n",
    "tipot = df[\"trans_group\"].value_counts().idxmax()\n",
    "datos.append(f\"Tipo de transaccion mas comun: {tipot}\")\n",
    "             \n",
    "# Terreno mas vendido\n",
    "terr = df[\"property_type\"].value_counts().idxmax()\n",
    "datos.append(f\"Tipo de terreno mas vendido: {terr}\")\n",
    "             \n",
    "# Inmueble mas vendido \n",
    "inmu = df[\"property_sub_type\"].value_counts().idxmax()\n",
    "datos.append(f\"Inmueble mas vendido: {inmu}\")\n",
    "             \n",
    "# Precio medio del inmueble\n",
    "precio = df[\"actual_worth\"].mean().round(2)\n",
    "datos.append(f\"Precio medio del inmueble: {precio}\")\n",
    "             \n",
    "# Inmueble mas caro\n",
    "preciomax = df[\"actual_worth\"].max()\n",
    "datos.append(f\"Inmueble mas caro: {preciomax}\")\n",
    "             \n",
    "# Inmueble mas barato\n",
    "preciomin = df[\"actual_worth\"].min()\n",
    "datos.append(f\"Inmueble mas barato: {preciomin}\")\n",
    "\n",
    "# Precio medio del suelo\n",
    "suelomed = df[\"meter_sale_price\"].mean().round(2)\n",
    "datos.append(f\"Precio medio del metro de suelo: {suelomed} \")\n",
    "\n",
    "# Suelo mas caro\n",
    "suelomax = df[\"meter_sale_price\"].max()\n",
    "datos.append(f\"Suelo mas caro: {suelomax}\")\n",
    "\n",
    "# Suelo mas barato\n",
    "suelomin = df[\"meter_sale_price\"].min()\n",
    "datos.append(f\"Suelo mas barato: {suelomin}\")\n",
    "\n",
    "# Precio medio de alquiler\n",
    "alqui = df[\"rent_value\"].mean().round(2)\n",
    "datos.append(f\"Precio medio de alquiler: {alqui}\")\n",
    "             \n",
    "datos"
   ]
  },
  {
   "cell_type": "code",
   "execution_count": null,
   "id": "51a583f5",
   "metadata": {},
   "outputs": [],
   "source": [
    "df[\"rent_value\"].describe()"
   ]
  },
  {
   "cell_type": "code",
   "execution_count": null,
   "id": "39948bee",
   "metadata": {},
   "outputs": [],
   "source": [
    "fait = df[\"date\"].min()\n",
    "fait"
   ]
  },
  {
   "cell_type": "code",
   "execution_count": null,
   "id": "aea8a4aa",
   "metadata": {},
   "outputs": [],
   "source": [
    "df.columns"
   ]
  },
  {
   "cell_type": "code",
   "execution_count": null,
   "id": "e219cdb7",
   "metadata": {},
   "outputs": [],
   "source": [
    "df.shape\n"
   ]
  },
  {
   "cell_type": "code",
   "execution_count": null,
   "id": "5dbeca99",
   "metadata": {},
   "outputs": [],
   "source": [
    "df.groupby(\"actual_worth\")[['has_parking', 'rooms']]\n",
    "df.pivot(index =\"actual_worth\",columns = ['has_parking', 'rooms'])"
   ]
  },
  {
   "cell_type": "code",
   "execution_count": null,
   "id": "fdb45662",
   "metadata": {
    "scrolled": true
   },
   "outputs": [],
   "source": [
    "df.set_index(['property_usage', 'area_name'])"
   ]
  },
  {
   "cell_type": "code",
   "execution_count": null,
   "id": "7a6f3479",
   "metadata": {},
   "outputs": [],
   "source": [
    "df.groupby(\"property_usage\")[['area_name']].count()"
   ]
  },
  {
   "cell_type": "code",
   "execution_count": null,
   "id": "23145008",
   "metadata": {},
   "outputs": [],
   "source": [
    "df.pivot(columns = \"property_usage\" ,values = 'area_name')"
   ]
  },
  {
   "cell_type": "code",
   "execution_count": null,
   "id": "8f9cb455",
   "metadata": {},
   "outputs": [],
   "source": [
    "df.pivot(columns = 'property_usage', values = \"meter_sale_price\")"
   ]
  },
  {
   "cell_type": "code",
   "execution_count": null,
   "id": "41f7e8cb",
   "metadata": {},
   "outputs": [],
   "source": [
    "df.pivot(columns = ['area_name'], values = \"meter_sale_price\").head(5)"
   ]
  },
  {
   "cell_type": "code",
   "execution_count": null,
   "id": "21a7a22d",
   "metadata": {},
   "outputs": [],
   "source": [
    "park_room = df.groupby(\"area_name\")[['has_parking', 'rooms']].count()"
   ]
  },
  {
   "cell_type": "code",
   "execution_count": null,
   "id": "4b7d0031",
   "metadata": {},
   "outputs": [],
   "source": [
    "park_room.head(50)"
   ]
  },
  {
   "cell_type": "code",
   "execution_count": null,
   "id": "5bd0349e",
   "metadata": {},
   "outputs": [],
   "source": [
    "area_precios = df.groupby(\"area_name\")[['actual_worth', \"meter_sale_price\", \"rent_value\"]].mean().round(2)"
   ]
  },
  {
   "cell_type": "code",
   "execution_count": null,
   "id": "bc956a0f",
   "metadata": {},
   "outputs": [],
   "source": [
    "area_compra = df.groupby(\"area_name\")[['actual_worth']].mean().round(2).head(5)\n",
    "area_compra"
   ]
  },
  {
   "cell_type": "markdown",
   "id": "b21ef63d",
   "metadata": {},
   "source": [
    "### DataFrame area-precio"
   ]
  },
  {
   "cell_type": "code",
   "execution_count": 19,
   "id": "1364f621",
   "metadata": {},
   "outputs": [],
   "source": [
    "dd = df[[\"area_name\",\"actual_worth\"]].round(2) # Hago otro Df para graficar zona y precio del inmueble"
   ]
  },
  {
   "cell_type": "code",
   "execution_count": 20,
   "id": "15dde5ec",
   "metadata": {},
   "outputs": [],
   "source": [
    "dd = dd.sort_values(by='actual_worth', ascending=False)"
   ]
  },
  {
   "cell_type": "code",
   "execution_count": 21,
   "id": "d70d3b3b",
   "metadata": {},
   "outputs": [],
   "source": [
    "dd = dd.dropna(thresh=len(dd.columns) - 0)"
   ]
  },
  {
   "cell_type": "code",
   "execution_count": 22,
   "id": "541677b8",
   "metadata": {},
   "outputs": [],
   "source": [
    "dd['actual_worth'] = dd['actual_worth'].astype(int)"
   ]
  },
  {
   "cell_type": "code",
   "execution_count": 23,
   "id": "5354b19a",
   "metadata": {},
   "outputs": [],
   "source": [
    "dd = dd.drop([853625, 88150, 554342, 92396])"
   ]
  },
  {
   "cell_type": "code",
   "execution_count": 24,
   "id": "40c38272",
   "metadata": {},
   "outputs": [],
   "source": [
    "ddb = dd.groupby(\"area_name\")[['actual_worth']].mean().round(2)\n",
    "ddb = ddb.sort_values(by='actual_worth', ascending=False)\n",
    "ddh = ddb.head(10)"
   ]
  },
  {
   "cell_type": "code",
   "execution_count": 25,
   "id": "685710bd",
   "metadata": {},
   "outputs": [
    {
     "data": {
      "image/png": "[encoded data removed]",
      "text/plain": [
       "<Figure size 640x480 with 1 Axes>"
      ]
     },
     "metadata": {},
     "output_type": "display_data"
    }
   ],
   "source": [
    "plt.barh(ddh.index, ddh[\"actual_worth\"], color= \"blue\", alpha= 0.8)\n",
    "plt.gca().invert_yaxis()\n",
    "plt.xlabel(\"Precio en millones 5mill-25mill\")\n",
    "plt.title(\"PRECIO DE INMUEBLE POR ZONAS\")\n",
    "plt.show()"
   ]
  },
  {
   "cell_type": "code",
   "execution_count": 26,
   "id": "e5670d51",
   "metadata": {},
   "outputs": [],
   "source": [
    "ddt = ddb.tail(10)"
   ]
  },
  {
   "cell_type": "code",
   "execution_count": 27,
   "id": "3ae0a146",
   "metadata": {},
   "outputs": [
    {
     "data": {
      "image/png": "[encoded data removed]",
      "text/plain": [
       "<Figure size 640x480 with 1 Axes>"
      ]
     },
     "metadata": {},
     "output_type": "display_data"
    }
   ],
   "source": [
    "plt.barh(ddt.index, ddt[\"actual_worth\"], color= \"blue\", alpha= 0.8)\n",
    "plt.gca().invert_yaxis()\n",
    "plt.xlabel(\"Precio en dirhams\")\n",
    "plt.title(\"PRECIO DE INMUEBLE POR ZONAS\")\n",
    "plt.show()"
   ]
  },
  {
   "cell_type": "markdown",
   "id": "acfbd3b5",
   "metadata": {},
   "source": [
    "### Tablas mas guays (Sergio)\n",
    "\n",
    "\n",
    "plt.barh(desempleo[\"CCAA\"], desempleo[\"tasa de desempleo %\"], color= \"black\", alpha= 0.4)\n",
    "for index, value in enumerate(desempleo[\"tasa de desempleo %\"]):\n",
    "    plt.text(value, index, f'{value}', fontsize=8)\n",
    "plt.xticks(rotation=80)\n",
    "plt.xlabel(\"Porcentaje de desemeplo diciembre 2023\")\n",
    "plt.title(\"DESEMPLEO ESPAÑA ACTUALIZACIÓN DICIEMBRE 2023\")\n",
    "plt.show()"
   ]
  },
  {
   "cell_type": "code",
   "execution_count": null,
   "id": "3401c134",
   "metadata": {},
   "outputs": [],
   "source": [
    "plt.barh(dd[\"area_name\"], dd[\"actual_worth\"], color= \"blue\", alpha= 0.4)\n",
    "plt.xlabel(\"ZONAS DE DUBAI\")\n",
    "plt.title(\"PRECIO DE INMUEBLE POR ZONAS\")\n",
    "plt.show()"
   ]
  },
  {
   "cell_type": "code",
   "execution_count": null,
   "id": "43707355",
   "metadata": {},
   "outputs": [],
   "source": [
    "area_compra.plot()"
   ]
  },
  {
   "cell_type": "code",
   "execution_count": null,
   "id": "b8308458",
   "metadata": {},
   "outputs": [],
   "source": [
    "area_precios.head(5)"
   ]
  },
  {
   "cell_type": "code",
   "execution_count": null,
   "id": "ddee8b87",
   "metadata": {},
   "outputs": [],
   "source": [
    "area_precios.plot()"
   ]
  },
  {
   "cell_type": "code",
   "execution_count": null,
   "id": "8e74e117",
   "metadata": {},
   "outputs": [],
   "source": [
    "# property_usage\n",
    "df.pivot(columns = 'property_usage', values = \"meter_sale_price\")"
   ]
  },
  {
   "cell_type": "markdown",
   "id": "6f4c548e",
   "metadata": {},
   "source": [
    "### Tabla zona-precio alquiler"
   ]
  },
  {
   "cell_type": "code",
   "execution_count": 28,
   "id": "c4bd219d",
   "metadata": {},
   "outputs": [],
   "source": [
    "dp = df[[\"area_name\",\"rent_value\"]]"
   ]
  },
  {
   "cell_type": "code",
   "execution_count": 29,
   "id": "050d18ef",
   "metadata": {},
   "outputs": [],
   "source": [
    "dp = dp.sort_values(by='rent_value', ascending=False)"
   ]
  },
  {
   "cell_type": "code",
   "execution_count": 30,
   "id": "6a283acf",
   "metadata": {},
   "outputs": [],
   "source": [
    "dp = dp.dropna(thresh=len(dd.columns) - 0)"
   ]
  },
  {
   "cell_type": "code",
   "execution_count": null,
   "id": "847462ba",
   "metadata": {},
   "outputs": [],
   "source": [
    "dp"
   ]
  },
  {
   "cell_type": "code",
   "execution_count": 31,
   "id": "37dc687d",
   "metadata": {},
   "outputs": [],
   "source": [
    "dpp = dp.groupby(\"area_name\")[['rent_value']].mean().round(2)"
   ]
  },
  {
   "cell_type": "code",
   "execution_count": 32,
   "id": "fe92fb19",
   "metadata": {},
   "outputs": [],
   "source": [
    "dpp = dpp.sort_values(by='rent_value', ascending=False)"
   ]
  },
  {
   "cell_type": "code",
   "execution_count": 33,
   "id": "206bdb5d",
   "metadata": {},
   "outputs": [],
   "source": [
    "dppa = dpp.head(10)"
   ]
  },
  {
   "cell_type": "code",
   "execution_count": 34,
   "id": "ff935e2e",
   "metadata": {},
   "outputs": [],
   "source": [
    "dppb = dpp.tail(10)"
   ]
  },
  {
   "cell_type": "code",
   "execution_count": 52,
   "id": "1d24ae0d",
   "metadata": {},
   "outputs": [
    {
     "data": {
      "image/png": "[encoded data removed]",
      "text/plain": [
       "<Figure size 640x480 with 1 Axes>"
      ]
     },
     "metadata": {},
     "output_type": "display_data"
    }
   ],
   "source": [
    "plt.barh(dppa.index, dppa[\"rent_value\"], color= \"red\", alpha= 0.8)\n",
    "plt.gca().invert_yaxis()  # Pone las columnas como en el eje Y\n",
    "plt.xlabel(\"Precio en millones de dirhams 2mill-10mill\")\n",
    "plt.title(\"PRECIO DE ALQUILER POR ZONAS\")\n",
    "plt.show()"
   ]
  },
  {
   "cell_type": "code",
   "execution_count": 53,
   "id": "d64d6b63",
   "metadata": {},
   "outputs": [
    {
     "data": {
      "image/png": "[encoded data removed]",
      "text/plain": [
       "<Figure size 640x480 with 1 Axes>"
      ]
     },
     "metadata": {},
     "output_type": "display_data"
    }
   ],
   "source": [
    "plt.barh(dppb.index, dppb[\"rent_value\"], color= \"red\", alpha= 0.8)\n",
    "plt.gca().invert_yaxis()\n",
    "plt.xlabel(\"Precio en dirhams\")\n",
    "plt.title(\"PRECIO DE ALQUILER POR ZONAS\")\n",
    "plt.show()"
   ]
  },
  {
   "cell_type": "code",
   "execution_count": null,
   "id": "390447cb",
   "metadata": {},
   "outputs": [],
   "source": [
    "plt.figure(figsize=(10, 6))\n",
    "sns.countplot(x='Usage', data=df)\n",
    "plt.title('Usage Type Distribution')\n",
    "\n",
    "plt.barh(dppb.index, dppb[\"rent_value\"], color= \"red\", alpha= 0.6)\n",
    "plt.gca().invert_yaxis()\n",
    "plt.xlabel(\"Precio en dirhams\")\n",
    "plt.title(\"PRECIO DE ALQUILER POR ZONAS\")\n",
    "plt.show()"
   ]
  },
  {
   "cell_type": "markdown",
   "id": "74424c81",
   "metadata": {},
   "source": [
    "### Uso de la propiedad"
   ]
  },
  {
   "cell_type": "code",
   "execution_count": 50,
   "id": "04d7b24d",
   "metadata": {},
   "outputs": [],
   "source": [
    "top3 = df[\"property_usage\"].value_counts().head(3)"
   ]
  },
  {
   "cell_type": "code",
   "execution_count": 67,
   "id": "99ffc01b",
   "metadata": {},
   "outputs": [
    {
     "data": {
      "image/png": "[encoded data removed]",
      "text/plain": [
       "<Figure size 640x480 with 1 Axes>"
      ]
     },
     "metadata": {},
     "output_type": "display_data"
    }
   ],
   "source": [
    "plt.bar(top3.index, top3, color= \"green\", alpha= 0.8)\n",
    "plt.xlabel(\"Tipos de inmueble\")\n",
    "plt.title(\"USO DEL INMUEBLE POR STAKEHOLDERS\")\n",
    "plt.show()"
   ]
  },
  {
   "cell_type": "code",
   "execution_count": 62,
   "id": "1bc70e34",
   "metadata": {},
   "outputs": [
    {
     "data": {
      "text/plain": [
       "trans_group\n",
       "sales        271519\n",
       "mortgages     62890\n",
       "gifts         15042\n",
       "Name: count, dtype: int64"
      ]
     },
     "execution_count": 62,
     "metadata": {},
     "output_type": "execute_result"
    }
   ],
   "source": [
    "top4 = df[\"trans_group\"].value_counts().head(3)\n",
    "top4"
   ]
  },
  {
   "cell_type": "code",
   "execution_count": 68,
   "id": "0836aa18",
   "metadata": {},
   "outputs": [
    {
     "data": {
      "image/png": "[encoded data removed]",
      "text/plain": [
       "<Figure size 640x480 with 1 Axes>"
      ]
     },
     "metadata": {},
     "output_type": "display_data"
    }
   ],
   "source": [
    "plt.bar(top4.index, top4, color= \"green\", alpha= 0.8)\n",
    "plt.xlabel(\"Tipos de transacción\")\n",
    "plt.title(\"TRANSACCIONES STAKEHOLDERS\")\n",
    "plt.show()"
   ]
  }
 ],
 "metadata": {
  "kernelspec": {
   "display_name": "Python 3 (ipykernel)",
   "language": "python",
   "name": "python3"
  },
  "language_info": {
   "codemirror_mode": {
    "name": "ipython",
    "version": 3
   },
   "file_extension": ".py",
   "mimetype": "text/x-python",
   "name": "python",
   "nbconvert_exporter": "python",
   "pygments_lexer": "ipython3",
   "version": "3.11.5"
  }
 },
 "nbformat": 4,
 "nbformat_minor": 5
}
