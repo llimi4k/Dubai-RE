{
 "cells": [
  {
   "cell_type": "code",
   "execution_count": 1,
   "id": "4e73f710",
   "metadata": {},
   "outputs": [],
   "source": [
    "from selenium import webdriver   # driver de selenium\n",
    "from selenium.webdriver.chrome.options import Options   # opciones del driver\n",
    "from selenium.webdriver.common.by import By # By es para buscar por tag, clase, id...\n",
    "from selenium.webdriver.common.keys import Keys  # para usar teclado"
   ]
  },
  {
   "cell_type": "code",
   "execution_count": 2,
   "id": "520f5c56",
   "metadata": {},
   "outputs": [],
   "source": [
    "driver = webdriver.Chrome()   # abre una ventana de chrome\n",
    "driver.get(\"https://dubailand.gov.ae/en/open-data/real-estate-data/#/\")   # entra en la pagina"
   ]
  },
  {
   "cell_type": "code",
   "execution_count": 5,
   "id": "3c1875a9",
   "metadata": {},
   "outputs": [
    {
     "data": {
      "text/plain": [
       "<selenium.webdriver.remote.webelement.WebElement (session=\"a93df09076d4d71181c1542e6951673e\", element=\"F698E5DCA3F0E9AC4CE85A16AFFB1E3B_element_138\")>"
      ]
     },
     "execution_count": 5,
     "metadata": {},
     "output_type": "execute_result"
    }
   ],
   "source": [
    "tabla = driver.find_element(By.TAG_NAME, 'table')\n",
    "tabla"
   ]
  },
  {
   "cell_type": "markdown",
   "id": "fd8e4a59",
   "metadata": {},
   "source": [
    "cabeceras = tabla.find_element(By.TAG_NAME, 'thead').text.split()\n",
    "cuerpo = tabla.find_element(By.TAG_NAME, 'tbody')\n",
    "filas = cuerpo.find_elements(By.TAG_NAME, 'tr')"
   ]
  },
  {
   "cell_type": "code",
   "execution_count": 15,
   "id": "0ab5e54b",
   "metadata": {},
   "outputs": [
    {
     "data": {
      "text/plain": [
       "['Transaction',\n",
       " 'Number',\n",
       " 'Transaction',\n",
       " 'Date',\n",
       " 'Transaction',\n",
       " 'Type',\n",
       " 'Transaction',\n",
       " 'sub',\n",
       " 'type',\n",
       " 'Registration',\n",
       " 'type']"
      ]
     },
     "execution_count": 15,
     "metadata": {},
     "output_type": "execute_result"
    }
   ],
   "source": [
    "cabeceras = tabla.find_element(By.TAG_NAME, 'thead').text.split()\n",
    "\n",
    "cabeceras"
   ]
  },
  {
   "cell_type": "code",
   "execution_count": 8,
   "id": "f3fca0ed",
   "metadata": {},
   "outputs": [
    {
     "data": {
      "text/plain": [
       "['Transaction Number Transaction Date Transaction Type Transaction sub type Registration type']"
      ]
     },
     "execution_count": 8,
     "metadata": {},
     "output_type": "execute_result"
    }
   ],
   "source": [
    "tabla.text.split(\"\\n\")"
   ]
  },
  {
   "cell_type": "code",
   "execution_count": null,
   "id": "56724af0",
   "metadata": {},
   "outputs": [],
   "source": [
    "https://www.thebluedolphinstore.com/"
   ]
  },
  {
   "cell_type": "code",
   "execution_count": 17,
   "id": "e004bb15",
   "metadata": {},
   "outputs": [],
   "source": [
    "driver = webdriver.Chrome()   # abre una ventana de chrome\n",
    "driver.get(\"https://www.thebluedolphinstore.com/categoria-producto/vinos-sin-alcohol/\")   # entra en la pagina"
   ]
  },
  {
   "cell_type": "code",
   "execution_count": 21,
   "id": "c56139f7",
   "metadata": {},
   "outputs": [],
   "source": [
    "productos = driver.find_elements(By.CLASS_NAME,\"product-wrap\")"
   ]
  },
  {
   "cell_type": "code",
   "execution_count": 22,
   "id": "e793cfba",
   "metadata": {},
   "outputs": [
    {
     "data": {
      "text/plain": [
       "63"
      ]
     },
     "execution_count": 22,
     "metadata": {},
     "output_type": "execute_result"
    }
   ],
   "source": [
    "len (productos)"
   ]
  },
  {
   "cell_type": "code",
   "execution_count": 24,
   "id": "84579f27",
   "metadata": {},
   "outputs": [
    {
     "data": {
      "text/plain": [
       "'NUEV@\\nCarl Jung Rosé – Vino Rosado Sin Alcohol\\n6,86€ IVA inc.'"
      ]
     },
     "execution_count": 24,
     "metadata": {},
     "output_type": "execute_result"
    }
   ],
   "source": [
    "productos[0].text"
   ]
  },
  {
   "cell_type": "code",
   "execution_count": 25,
   "id": "963f67a4",
   "metadata": {},
   "outputs": [
    {
     "data": {
      "text/plain": [
       "['NUEV@', 'Carl Jung Rosé – Vino Rosado Sin Alcohol', '6,86€ IVA inc.']"
      ]
     },
     "execution_count": 25,
     "metadata": {},
     "output_type": "execute_result"
    }
   ],
   "source": [
    "productos[0].text.split(\"\\n\")"
   ]
  },
  {
   "cell_type": "code",
   "execution_count": 32,
   "id": "2b3793df",
   "metadata": {},
   "outputs": [
    {
     "data": {
      "text/plain": [
       "'Carl Jung Rosé – Vino Rosado Sin Alcohol'"
      ]
     },
     "execution_count": 32,
     "metadata": {},
     "output_type": "execute_result"
    }
   ],
   "source": [
    "nombre_v = productos[0].find_element(By.TAG_NAME, \"h3\").text\n",
    "nombre_v"
   ]
  },
  {
   "cell_type": "code",
   "execution_count": 31,
   "id": "1ff6dcb7",
   "metadata": {},
   "outputs": [
    {
     "data": {
      "text/plain": [
       "['Carl Jung Rosé – Vino Rosado Sin Alcohol']"
      ]
     },
     "execution_count": 31,
     "metadata": {},
     "output_type": "execute_result"
    }
   ],
   "source": [
    "nombre_v = productos[0].find_element(By.TAG_NAME, \"h3\").text.split(\" - \")\n",
    "nombre_v\n"
   ]
  },
  {
   "cell_type": "code",
   "execution_count": null,
   "id": "e2e68ac3",
   "metadata": {},
   "outputs": [],
   "source": []
  },
  {
   "cell_type": "code",
   "execution_count": null,
   "id": "4abcfef6",
   "metadata": {},
   "outputs": [],
   "source": []
  }
 ],
 "metadata": {
  "kernelspec": {
   "display_name": "Python 3 (ipykernel)",
   "language": "python",
   "name": "python3"
  },
  "language_info": {
   "codemirror_mode": {
    "name": "ipython",
    "version": 3
   },
   "file_extension": ".py",
   "mimetype": "text/x-python",
   "name": "python",
   "nbconvert_exporter": "python",
   "pygments_lexer": "ipython3",
   "version": "3.11.5"
  }
 },
 "nbformat": 4,
 "nbformat_minor": 5
}
